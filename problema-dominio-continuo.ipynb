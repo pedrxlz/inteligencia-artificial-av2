{
 "cells": [
  {
   "cell_type": "code",
   "execution_count": 1,
   "metadata": {},
   "outputs": [],
   "source": [
    "import numpy as np"
   ]
  },
  {
   "cell_type": "code",
   "execution_count": 2,
   "metadata": {},
   "outputs": [],
   "source": [
    "\n",
    "def rastrigin_function(x, A=10):\n",
    "    p = len(x)\n",
    "    return A * p + sum([(xi**2 - A * np.cos(2 * np.pi * xi)) for xi in x])"
   ]
  },
  {
   "cell_type": "code",
   "execution_count": 3,
   "metadata": {},
   "outputs": [],
   "source": [
    "def initialize_population(pop_size, chromosome_length):\n",
    "    return np.random.randint(2, size=(pop_size, chromosome_length))"
   ]
  },
  {
   "cell_type": "code",
   "execution_count": 4,
   "metadata": {},
   "outputs": [],
   "source": [
    "def decode_chromosome(chromosome, num_dimensions, bits_per_dimension, domain=(-10, 10)):\n",
    "    split = np.split(chromosome, num_dimensions)\n",
    "    real_values = []\n",
    "    for bit_array in split:\n",
    "        decimal_value = int(\"\".join(str(bit) for bit in bit_array), 2)\n",
    "        min_domain, max_domain = domain\n",
    "        real_value = min_domain + ((max_domain - min_domain) / ((2**bits_per_dimension) - 1)) * decimal_value\n",
    "        real_values.append(real_value)\n",
    "    return real_values"
   ]
  },
  {
   "cell_type": "code",
   "execution_count": 5,
   "metadata": {},
   "outputs": [],
   "source": [
    "def roulette_wheel_selection(population, fitness_scores):\n",
    "    total_fitness = sum(fitness_scores)\n",
    "    selection_probabilities = [fitness / total_fitness for fitness in fitness_scores]\n",
    "    return population[np.random.choice(len(population), p=selection_probabilities)]"
   ]
  },
  {
   "cell_type": "code",
   "execution_count": 6,
   "metadata": {},
   "outputs": [],
   "source": [
    "def two_point_crossover(parent1, parent2):\n",
    "    size = len(parent1)\n",
    "    crossover_point1, crossover_point2 = sorted(np.random.choice(range(1, size), 2, replace=False))\n",
    "    offspring1 = np.concatenate([parent1[:crossover_point1], parent2[crossover_point1:crossover_point2], parent1[crossover_point2:]])\n",
    "    offspring2 = np.concatenate([parent2[:crossover_point1], parent1[crossover_point1:crossover_point2], parent2[crossover_point2:]])\n",
    "    return offspring1, offspring2"
   ]
  },
  {
   "cell_type": "code",
   "execution_count": 7,
   "metadata": {},
   "outputs": [],
   "source": [
    "def mutate(chromosome, mutation_rate):\n",
    "    for i in range(len(chromosome)):\n",
    "        if np.random.rand() < mutation_rate:\n",
    "            chromosome[i] = 1 - chromosome[i]  # Flip bit\n",
    "    return chromosome"
   ]
  },
  {
   "cell_type": "code",
   "execution_count": 8,
   "metadata": {},
   "outputs": [],
   "source": [
    "def genetic_algorithm(pop_size, chromosome_length, num_dimensions, bits_per_dimension, num_generations, mutation_rate):\n",
    "    population = initialize_population(pop_size, chromosome_length)\n",
    "    best_solution = None\n",
    "    best_fitness = float('inf')\n",
    "    \n",
    "    for generation in range(num_generations):\n",
    "        decoded_population = [decode_chromosome(chromo, num_dimensions, bits_per_dimension) for chromo in population]\n",
    "        fitness_scores = [rastrigin_function(individual) for individual in decoded_population]\n",
    "        \n",
    "        current_best_fitness = min(fitness_scores)\n",
    "        if current_best_fitness < best_fitness:\n",
    "            best_fitness = current_best_fitness\n",
    "            best_solution = decoded_population[fitness_scores.index(best_fitness)]\n",
    "        \n",
    "        new_population = []\n",
    "        for _ in range(pop_size // 2):\n",
    "            parent1 = roulette_wheel_selection(population, fitness_scores)\n",
    "            parent2 = roulette_wheel_selection(population, fitness_scores)\n",
    "            offspring1, offspring2 = two_point_crossover(parent1, parent2)\n",
    "            new_population.extend([offspring1, offspring2])\n",
    "        \n",
    "        population = [mutate(offspring, mutation_rate) for offspring in new_population]\n",
    "        print(f\"Generation {generation}: Best Fitness = {best_fitness}\")\n",
    "    \n",
    "    return best_solution, best_fitness"
   ]
  },
  {
   "cell_type": "code",
   "execution_count": 9,
   "metadata": {},
   "outputs": [
    {
     "name": "stdout",
     "output_type": "stream",
     "text": [
      "Generation 0: Best Fitness = 563.3345371527694\n",
      "Generation 1: Best Fitness = 547.9241907271293\n",
      "Generation 2: Best Fitness = 547.9241907271293\n",
      "Generation 3: Best Fitness = 535.7249202819312\n",
      "Generation 4: Best Fitness = 535.7249202819312\n",
      "Generation 5: Best Fitness = 535.7249202819312\n",
      "Generation 6: Best Fitness = 535.7249202819312\n",
      "Generation 7: Best Fitness = 535.7249202819312\n",
      "Generation 8: Best Fitness = 535.7249202819312\n",
      "Generation 9: Best Fitness = 535.7249202819312\n",
      "Generation 10: Best Fitness = 535.7249202819312\n",
      "Generation 11: Best Fitness = 535.7249202819312\n",
      "Generation 12: Best Fitness = 535.7249202819312\n",
      "Generation 13: Best Fitness = 535.7249202819312\n",
      "Generation 14: Best Fitness = 535.7249202819312\n",
      "Generation 15: Best Fitness = 535.7249202819312\n",
      "Generation 16: Best Fitness = 535.7249202819312\n",
      "Generation 17: Best Fitness = 535.7249202819312\n",
      "Generation 18: Best Fitness = 535.7249202819312\n",
      "Generation 19: Best Fitness = 535.7249202819312\n",
      "Generation 20: Best Fitness = 535.7249202819312\n",
      "Generation 21: Best Fitness = 535.7249202819312\n",
      "Generation 22: Best Fitness = 535.7249202819312\n",
      "Generation 23: Best Fitness = 535.7249202819312\n",
      "Generation 24: Best Fitness = 535.7249202819312\n",
      "Generation 25: Best Fitness = 535.7249202819312\n",
      "Generation 26: Best Fitness = 535.7249202819312\n",
      "Generation 27: Best Fitness = 535.7249202819312\n",
      "Generation 28: Best Fitness = 535.7249202819312\n",
      "Generation 29: Best Fitness = 535.7249202819312\n",
      "Generation 30: Best Fitness = 535.7249202819312\n",
      "Generation 31: Best Fitness = 535.7249202819312\n",
      "Generation 32: Best Fitness = 535.7249202819312\n",
      "Generation 33: Best Fitness = 535.7249202819312\n",
      "Generation 34: Best Fitness = 535.7249202819312\n",
      "Generation 35: Best Fitness = 535.7249202819312\n",
      "Generation 36: Best Fitness = 535.7249202819312\n",
      "Generation 37: Best Fitness = 535.7249202819312\n",
      "Generation 38: Best Fitness = 535.7249202819312\n",
      "Generation 39: Best Fitness = 535.7249202819312\n",
      "Generation 40: Best Fitness = 535.7249202819312\n",
      "Generation 41: Best Fitness = 535.7249202819312\n",
      "Generation 42: Best Fitness = 535.7249202819312\n",
      "Generation 43: Best Fitness = 535.7249202819312\n",
      "Generation 44: Best Fitness = 535.7249202819312\n",
      "Generation 45: Best Fitness = 535.7249202819312\n",
      "Generation 46: Best Fitness = 535.7249202819312\n",
      "Generation 47: Best Fitness = 535.7249202819312\n",
      "Generation 48: Best Fitness = 535.7249202819312\n",
      "Generation 49: Best Fitness = 535.7249202819312\n",
      "Generation 50: Best Fitness = 535.7249202819312\n",
      "Generation 51: Best Fitness = 535.7249202819312\n",
      "Generation 52: Best Fitness = 535.7249202819312\n",
      "Generation 53: Best Fitness = 535.7249202819312\n",
      "Generation 54: Best Fitness = 535.7249202819312\n",
      "Generation 55: Best Fitness = 535.7249202819312\n",
      "Generation 56: Best Fitness = 535.7249202819312\n",
      "Generation 57: Best Fitness = 535.7249202819312\n",
      "Generation 58: Best Fitness = 535.7249202819312\n",
      "Generation 59: Best Fitness = 535.7249202819312\n",
      "Generation 60: Best Fitness = 535.7249202819312\n",
      "Generation 61: Best Fitness = 535.7249202819312\n",
      "Generation 62: Best Fitness = 535.7249202819312\n",
      "Generation 63: Best Fitness = 535.7249202819312\n",
      "Generation 64: Best Fitness = 535.7249202819312\n",
      "Generation 65: Best Fitness = 535.7249202819312\n",
      "Generation 66: Best Fitness = 535.7249202819312\n",
      "Generation 67: Best Fitness = 535.7249202819312\n",
      "Generation 68: Best Fitness = 535.7249202819312\n",
      "Generation 69: Best Fitness = 535.7249202819312\n",
      "Generation 70: Best Fitness = 535.7249202819312\n",
      "Generation 71: Best Fitness = 535.7249202819312\n",
      "Generation 72: Best Fitness = 535.7249202819312\n",
      "Generation 73: Best Fitness = 535.7249202819312\n",
      "Generation 74: Best Fitness = 535.7249202819312\n",
      "Generation 75: Best Fitness = 535.7249202819312\n",
      "Generation 76: Best Fitness = 535.7249202819312\n",
      "Generation 77: Best Fitness = 535.7249202819312\n",
      "Generation 78: Best Fitness = 535.7249202819312\n",
      "Generation 79: Best Fitness = 535.7249202819312\n",
      "Generation 80: Best Fitness = 535.7249202819312\n",
      "Generation 81: Best Fitness = 535.7249202819312\n",
      "Generation 82: Best Fitness = 535.7249202819312\n",
      "Generation 83: Best Fitness = 535.7249202819312\n",
      "Generation 84: Best Fitness = 535.7249202819312\n",
      "Generation 85: Best Fitness = 535.7249202819312\n",
      "Generation 86: Best Fitness = 535.7249202819312\n",
      "Generation 87: Best Fitness = 535.7249202819312\n",
      "Generation 88: Best Fitness = 535.7249202819312\n",
      "Generation 89: Best Fitness = 535.7249202819312\n",
      "Generation 90: Best Fitness = 535.7249202819312\n",
      "Generation 91: Best Fitness = 535.7249202819312\n",
      "Generation 92: Best Fitness = 535.7249202819312\n",
      "Generation 93: Best Fitness = 535.7249202819312\n",
      "Generation 94: Best Fitness = 535.7249202819312\n",
      "Generation 95: Best Fitness = 535.7249202819312\n",
      "Generation 96: Best Fitness = 535.7249202819312\n",
      "Generation 97: Best Fitness = 535.7249202819312\n",
      "Generation 98: Best Fitness = 535.7249202819312\n",
      "Generation 99: Best Fitness = 535.7249202819312\n"
     ]
    }
   ],
   "source": [
    "best_solution, best_fitness = genetic_algorithm(\n",
    "    pop_size=100, chromosome_length=200, num_dimensions=20, bits_per_dimension=10,\n",
    "    num_generations=100, mutation_rate=0.01\n",
    ")"
   ]
  }
 ],
 "metadata": {
  "kernelspec": {
   "display_name": "Python 3",
   "language": "python",
   "name": "python3"
  },
  "language_info": {
   "codemirror_mode": {
    "name": "ipython",
    "version": 3
   },
   "file_extension": ".py",
   "mimetype": "text/x-python",
   "name": "python",
   "nbconvert_exporter": "python",
   "pygments_lexer": "ipython3",
   "version": "3.12.0"
  }
 },
 "nbformat": 4,
 "nbformat_minor": 2
}
