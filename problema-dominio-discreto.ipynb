{
 "cells": [
  {
   "cell_type": "code",
   "execution_count": 10,
   "metadata": {},
   "outputs": [],
   "source": [
    "import numpy as np"
   ]
  },
  {
   "cell_type": "code",
   "execution_count": 11,
   "metadata": {},
   "outputs": [],
   "source": [
    "def calculate_distance(point1, point2):\n",
    "    return np.sqrt((point1[0] - point2[0]) ** 2 + (point1[1] - point2[1]) ** 2 + (point1[2] - point2[2]) ** 2)"
   ]
  },
  {
   "cell_type": "code",
   "execution_count": 12,
   "metadata": {},
   "outputs": [],
   "source": [
    "def initialize_population(pop_size, num_points):\n",
    "    population = []\n",
    "    for _ in range(pop_size):\n",
    "        chromosome = np.random.permutation(num_points)\n",
    "        population.append(chromosome)\n",
    "    return population"
   ]
  },
  {
   "cell_type": "code",
   "execution_count": 13,
   "metadata": {},
   "outputs": [],
   "source": [
    "def fitness(chromosome, points):\n",
    "    total_distance = 0\n",
    "    origin = points[0]  \n",
    "    current_point = origin\n",
    "    for index in chromosome:\n",
    "        next_point = points[index + 1] \n",
    "        total_distance += calculate_distance(current_point, next_point)\n",
    "        current_point = next_point\n",
    "    total_distance += calculate_distance(current_point, origin)\n",
    "    fitness = 1 / (1 + total_distance) \n",
    "    return fitness"
   ]
  },
  {
   "cell_type": "code",
   "execution_count": 14,
   "metadata": {},
   "outputs": [],
   "source": [
    "def tournament_selection(population, fitness_scores, tournament_size=3):\n",
    "    tournament = np.random.choice(len(population), tournament_size, replace=False)\n",
    "    tournament_fitness = [fitness_scores[i] for i in tournament]\n",
    "    winner_index = tournament[np.argmax(tournament_fitness)]\n",
    "    return population[winner_index]"
   ]
  },
  {
   "cell_type": "code",
   "execution_count": 15,
   "metadata": {},
   "outputs": [],
   "source": [
    "def crossover(parent1, parent2):\n",
    "    size = len(parent1)\n",
    "    start, end = sorted(np.random.choice(range(size), 2, replace=False))  \n",
    "    offspring = np.empty(size, dtype=parent1.dtype)\n",
    "    offspring[start:end] = parent1[start:end]  \n",
    "    fill_values = [item for item in parent2 if item not in offspring[start:end]]\n",
    "    offspring[:start] = fill_values[:start]\n",
    "    offspring[end:] = fill_values[start:]\n",
    "    return offspring\n"
   ]
  },
  {
   "cell_type": "code",
   "execution_count": 16,
   "metadata": {},
   "outputs": [],
   "source": [
    "def mutate(chromosome, mutation_rate):\n",
    "    size = len(chromosome)\n",
    "    for _ in range(int(size * mutation_rate)):\n",
    "        idx1, idx2 = np.random.choice(size, 2, replace=False)\n",
    "        chromosome[idx1], chromosome[idx2] = chromosome[idx2], chromosome[idx1]\n",
    "    return chromosome\n"
   ]
  },
  {
   "cell_type": "code",
   "execution_count": 17,
   "metadata": {},
   "outputs": [],
   "source": [
    "def genetic_algorithm(points, pop_size, num_generations, mutation_rate):\n",
    "    num_points = len(points) - 1  \n",
    "    population = initialize_population(pop_size, num_points)\n",
    "    best_solution = None\n",
    "    best_fitness = float('-inf')\n",
    "\n",
    "    for generation in range(num_generations):\n",
    "        fitness_scores = [fitness(chromo, points) for chromo in population]\n",
    "        generation_best_fitness = max(fitness_scores)\n",
    "        if generation_best_fitness > best_fitness:\n",
    "            best_fitness = generation_best_fitness\n",
    "            best_solution = population[fitness_scores.index(best_fitness)]\n",
    "\n",
    "        new_population = []\n",
    "        while len(new_population) < pop_size:\n",
    "            parent1 = tournament_selection(population, fitness_scores)\n",
    "            parent2 = tournament_selection(population, fitness_scores)\n",
    "            offspring = crossover(parent1, parent2)\n",
    "            offspring = mutate(offspring, mutation_rate)\n",
    "            new_population.append(offspring)\n",
    "\n",
    "        population = new_population\n",
    "        print(f\"Generation {generation}: Best Fitness = {best_fitness}\")\n",
    "\n",
    "    return best_solution, best_fitness"
   ]
  },
  {
   "cell_type": "code",
   "execution_count": 18,
   "metadata": {},
   "outputs": [
    {
     "name": "stdout",
     "output_type": "stream",
     "text": [
      "Generation 0: Best Fitness = 0.009530794374861805\n",
      "Generation 1: Best Fitness = 0.009530794374861805\n",
      "Generation 2: Best Fitness = 0.009530794374861805\n",
      "Generation 3: Best Fitness = 0.009530794374861805\n",
      "Generation 4: Best Fitness = 0.009530794374861805\n",
      "Generation 5: Best Fitness = 0.009530794374861805\n",
      "Generation 6: Best Fitness = 0.009530794374861805\n",
      "Generation 7: Best Fitness = 0.009530794374861805\n",
      "Generation 8: Best Fitness = 0.009530794374861805\n",
      "Generation 9: Best Fitness = 0.009530794374861805\n",
      "Generation 10: Best Fitness = 0.009530794374861805\n",
      "Generation 11: Best Fitness = 0.009530794374861805\n",
      "Generation 12: Best Fitness = 0.009530794374861805\n",
      "Generation 13: Best Fitness = 0.009530794374861805\n",
      "Generation 14: Best Fitness = 0.009530794374861805\n",
      "Generation 15: Best Fitness = 0.009530794374861805\n",
      "Generation 16: Best Fitness = 0.009530794374861805\n",
      "Generation 17: Best Fitness = 0.009530794374861805\n",
      "Generation 18: Best Fitness = 0.009530794374861805\n",
      "Generation 19: Best Fitness = 0.009530794374861805\n",
      "Generation 20: Best Fitness = 0.009530794374861805\n",
      "Generation 21: Best Fitness = 0.009530794374861805\n",
      "Generation 22: Best Fitness = 0.009530794374861805\n",
      "Generation 23: Best Fitness = 0.009530794374861805\n",
      "Generation 24: Best Fitness = 0.009530794374861805\n",
      "Generation 25: Best Fitness = 0.009530794374861805\n",
      "Generation 26: Best Fitness = 0.009530794374861805\n",
      "Generation 27: Best Fitness = 0.009530794374861805\n",
      "Generation 28: Best Fitness = 0.009530794374861805\n",
      "Generation 29: Best Fitness = 0.009530794374861805\n",
      "Generation 30: Best Fitness = 0.009530794374861805\n",
      "Generation 31: Best Fitness = 0.009530794374861805\n",
      "Generation 32: Best Fitness = 0.009530794374861805\n",
      "Generation 33: Best Fitness = 0.009530794374861805\n",
      "Generation 34: Best Fitness = 0.009530794374861805\n",
      "Generation 35: Best Fitness = 0.009530794374861805\n",
      "Generation 36: Best Fitness = 0.009530794374861805\n",
      "Generation 37: Best Fitness = 0.009530794374861805\n",
      "Generation 38: Best Fitness = 0.009530794374861805\n",
      "Generation 39: Best Fitness = 0.009530794374861805\n",
      "Generation 40: Best Fitness = 0.009530794374861805\n",
      "Generation 41: Best Fitness = 0.009530794374861805\n",
      "Generation 42: Best Fitness = 0.009530794374861805\n",
      "Generation 43: Best Fitness = 0.009530794374861805\n",
      "Generation 44: Best Fitness = 0.009530794374861805\n",
      "Generation 45: Best Fitness = 0.009530794374861805\n",
      "Generation 46: Best Fitness = 0.009530794374861805\n",
      "Generation 47: Best Fitness = 0.009530794374861805\n",
      "Generation 48: Best Fitness = 0.009530794374861805\n",
      "Generation 49: Best Fitness = 0.009530794374861805\n",
      "Generation 50: Best Fitness = 0.009530794374861805\n",
      "Generation 51: Best Fitness = 0.009530794374861805\n",
      "Generation 52: Best Fitness = 0.009530794374861805\n",
      "Generation 53: Best Fitness = 0.009530794374861805\n",
      "Generation 54: Best Fitness = 0.009530794374861805\n",
      "Generation 55: Best Fitness = 0.009530794374861805\n",
      "Generation 56: Best Fitness = 0.009530794374861805\n",
      "Generation 57: Best Fitness = 0.009530794374861805\n",
      "Generation 58: Best Fitness = 0.009530794374861805\n",
      "Generation 59: Best Fitness = 0.009530794374861805\n",
      "Generation 60: Best Fitness = 0.009530794374861805\n",
      "Generation 61: Best Fitness = 0.009530794374861805\n",
      "Generation 62: Best Fitness = 0.009530794374861805\n",
      "Generation 63: Best Fitness = 0.009530794374861805\n",
      "Generation 64: Best Fitness = 0.009530794374861805\n",
      "Generation 65: Best Fitness = 0.009530794374861805\n",
      "Generation 66: Best Fitness = 0.009530794374861805\n",
      "Generation 67: Best Fitness = 0.009530794374861805\n",
      "Generation 68: Best Fitness = 0.009530794374861805\n",
      "Generation 69: Best Fitness = 0.009530794374861805\n",
      "Generation 70: Best Fitness = 0.009530794374861805\n",
      "Generation 71: Best Fitness = 0.009530794374861805\n",
      "Generation 72: Best Fitness = 0.009530794374861805\n",
      "Generation 73: Best Fitness = 0.009530794374861805\n",
      "Generation 74: Best Fitness = 0.009530794374861805\n",
      "Generation 75: Best Fitness = 0.009530794374861805\n",
      "Generation 76: Best Fitness = 0.009530794374861805\n",
      "Generation 77: Best Fitness = 0.009530794374861805\n",
      "Generation 78: Best Fitness = 0.009530794374861805\n",
      "Generation 79: Best Fitness = 0.009530794374861805\n",
      "Generation 80: Best Fitness = 0.009530794374861805\n",
      "Generation 81: Best Fitness = 0.009530794374861805\n",
      "Generation 82: Best Fitness = 0.009530794374861805\n",
      "Generation 83: Best Fitness = 0.009530794374861805\n",
      "Generation 84: Best Fitness = 0.009530794374861805\n",
      "Generation 85: Best Fitness = 0.009530794374861805\n",
      "Generation 86: Best Fitness = 0.009530794374861805\n",
      "Generation 87: Best Fitness = 0.009530794374861805\n",
      "Generation 88: Best Fitness = 0.009530794374861805\n",
      "Generation 89: Best Fitness = 0.009530794374861805\n",
      "Generation 90: Best Fitness = 0.009530794374861805\n",
      "Generation 91: Best Fitness = 0.009530794374861805\n",
      "Generation 92: Best Fitness = 0.009530794374861805\n",
      "Generation 93: Best Fitness = 0.009530794374861805\n",
      "Generation 94: Best Fitness = 0.009530794374861805\n",
      "Generation 95: Best Fitness = 0.009530794374861805\n",
      "Generation 96: Best Fitness = 0.009530794374861805\n",
      "Generation 97: Best Fitness = 0.009530794374861805\n",
      "Generation 98: Best Fitness = 0.009530794374861805\n",
      "Generation 99: Best Fitness = 0.009530794374861805\n"
     ]
    }
   ],
   "source": [
    "points_example = [(0,0,0), (10,10,10), (20,20,20), (30,30,30)]  \n",
    "\n",
    "best_solution, best_fitness = genetic_algorithm(\n",
    "    points=points_example, pop_size=100, num_generations=100, mutation_rate=0.01\n",
    ")"
   ]
  }
 ],
 "metadata": {
  "kernelspec": {
   "display_name": "Python 3",
   "language": "python",
   "name": "python3"
  },
  "language_info": {
   "codemirror_mode": {
    "name": "ipython",
    "version": 3
   },
   "file_extension": ".py",
   "mimetype": "text/x-python",
   "name": "python",
   "nbconvert_exporter": "python",
   "pygments_lexer": "ipython3",
   "version": "3.12.0"
  }
 },
 "nbformat": 4,
 "nbformat_minor": 2
}
