{
 "cells": [
  {
   "cell_type": "code",
   "execution_count": 2,
   "metadata": {},
   "outputs": [],
   "source": [
    "import numpy as np\n",
    "import matplotlib.pyplot as plt\n",
    "import pandas as pd"
   ]
  },
  {
   "cell_type": "code",
   "execution_count": 3,
   "metadata": {},
   "outputs": [],
   "source": [
    "def calculate_distance(point1, point2):\n",
    "    return np.sqrt((point1[0] - point2[0]) ** 2 + (point1[1] - point2[1]) ** 2 + (point1[2] - point2[2]) ** 2)"
   ]
  },
  {
   "cell_type": "code",
   "execution_count": 4,
   "metadata": {},
   "outputs": [],
   "source": [
    "def initialize_population(pop_size, num_points):\n",
    "    population = []\n",
    "    for _ in range(pop_size):\n",
    "        chromosome = np.random.permutation(num_points)\n",
    "        population.append(chromosome)\n",
    "    return population"
   ]
  },
  {
   "cell_type": "code",
   "execution_count": 5,
   "metadata": {},
   "outputs": [],
   "source": [
    "def fitness(chromosome, points):\n",
    "    total_distance = 0\n",
    "    origin = points[0]  \n",
    "    current_point = origin\n",
    "    for index in chromosome:\n",
    "        next_point = points[index + 1] \n",
    "        total_distance += calculate_distance(current_point, next_point)\n",
    "        current_point = next_point\n",
    "    total_distance += calculate_distance(current_point, origin)\n",
    "    fitness = 1 / (1 + total_distance) \n",
    "    return fitness"
   ]
  },
  {
   "cell_type": "code",
   "execution_count": 6,
   "metadata": {},
   "outputs": [],
   "source": [
    "def tournament_selection(population, fitness_scores, tournament_size=3):\n",
    "    tournament = np.random.choice(len(population), tournament_size, replace=False)\n",
    "    tournament_fitness = [fitness_scores[i] for i in tournament]\n",
    "    winner_index = tournament[np.argmax(tournament_fitness)]\n",
    "    return population[winner_index]"
   ]
  },
  {
   "cell_type": "code",
   "execution_count": 7,
   "metadata": {},
   "outputs": [],
   "source": [
    "def crossover(parent1, parent2):\n",
    "    size = len(parent1)\n",
    "    start, end = sorted(np.random.choice(range(size), 2, replace=False))  \n",
    "    offspring = np.empty(size, dtype=parent1.dtype)\n",
    "    offspring[start:end] = parent1[start:end]  \n",
    "    fill_values = [item for item in parent2 if item not in offspring[start:end]]\n",
    "    offspring[:start] = fill_values[:start]\n",
    "    offspring[end:] = fill_values[start:]\n",
    "    return offspring\n"
   ]
  },
  {
   "cell_type": "code",
   "execution_count": 8,
   "metadata": {},
   "outputs": [],
   "source": [
    "def mutate(chromosome, mutation_rate):\n",
    "    size = len(chromosome)\n",
    "    for _ in range(int(size * mutation_rate)):\n",
    "        idx1, idx2 = np.random.choice(size, 2, replace=False)\n",
    "        chromosome[idx1], chromosome[idx2] = chromosome[idx2], chromosome[idx1]\n",
    "    return chromosome\n"
   ]
  },
  {
   "cell_type": "code",
   "execution_count": 14,
   "metadata": {},
   "outputs": [],
   "source": [
    "def genetic_algorithm(points, pop_size, num_generations, mutation_rate):\n",
    "    num_points = len(points) - 1  \n",
    "    population = initialize_population(pop_size, num_points)\n",
    "    best_solution = None\n",
    "    best_fitness = float('-inf')\n",
    "    generation_data = []\n",
    "\n",
    "\n",
    "    for generation in range(num_generations):\n",
    "        fitness_scores = [fitness(chromo, points) for chromo in population]\n",
    "        generation_best_fitness = max(fitness_scores)\n",
    "        if generation_best_fitness > best_fitness:\n",
    "            best_fitness = generation_best_fitness\n",
    "            best_solution = population[fitness_scores.index(best_fitness)]\n",
    "\n",
    "        new_population = []\n",
    "        while len(new_population) < pop_size:\n",
    "            parent1 = tournament_selection(population, fitness_scores)\n",
    "            parent2 = tournament_selection(population, fitness_scores)\n",
    "            offspring = crossover(parent1, parent2)\n",
    "            offspring = mutate(offspring, mutation_rate)\n",
    "            new_population.append(offspring)\n",
    "\n",
    "        population = new_population\n",
    "        min_fitness = min(fitness_scores)\n",
    "        max_fitness = max(fitness_scores)\n",
    "        mean_fitness = np.mean(fitness_scores)\n",
    "        \n",
    "        \n",
    "        \n",
    "        generation_data.append({\n",
    "            \"Generation\": generation,\n",
    "            \"Min Fitness\": min_fitness,\n",
    "            \"Max Fitness\": max_fitness,\n",
    "            \"Mean Fitness\": mean_fitness,\n",
    "        })\n",
    "    \n",
    "        \n",
    "    df = pd.DataFrame(generation_data)\n",
    "    df.to_csv(\"generation_data.csv\", index=False)\n",
    "\n",
    "    return best_solution, best_fitness, df"
   ]
  },
  {
   "cell_type": "code",
   "execution_count": 18,
   "metadata": {},
   "outputs": [
    {
     "name": "stdout",
     "output_type": "stream",
     "text": [
      "            Min Fitness  Max Fitness  Mean Fitness  Std Fitness\n",
      "Generation                                                     \n",
      "0              0.007165     0.009531      0.008821          NaN\n",
      "1              0.007165     0.009531      0.009318          NaN\n",
      "2              0.007165     0.009531      0.009507          NaN\n",
      "3              0.009531     0.009531      0.009531          NaN\n",
      "4              0.009531     0.009531      0.009531          NaN\n",
      "...                 ...          ...           ...          ...\n",
      "95             0.009531     0.009531      0.009531          NaN\n",
      "96             0.009531     0.009531      0.009531          NaN\n",
      "97             0.009531     0.009531      0.009531          NaN\n",
      "98             0.009531     0.009531      0.009531          NaN\n",
      "99             0.009531     0.009531      0.009531          NaN\n",
      "\n",
      "[100 rows x 4 columns]\n"
     ]
    },
    {
     "data": {
      "image/png": "[encoded data removed]",
      "text/plain": [
       "<Figure size 640x480 with 1 Axes>"
      ]
     },
     "metadata": {},
     "output_type": "display_data"
    }
   ],
   "source": [
    "points_example = [(0,0,0), (10,10,10), (20,20,20), (30,30,30)]  \n",
    "\n",
    "best_solution, best_fitness, df = genetic_algorithm(\n",
    "    points=points_example, pop_size=100, num_generations=100, mutation_rate=0.01\n",
    ")\n",
    "\n",
    "stats_df = df.groupby('Generation').agg({\n",
    "    'Min Fitness': 'min',\n",
    "    'Max Fitness': 'max',\n",
    "    'Mean Fitness': 'mean'\n",
    "})\n",
    "\n",
    "stats_df['Std Fitness'] = df.groupby('Generation')['Mean Fitness'].transform('std')\n",
    "\n",
    "print(stats_df)\n",
    "\n",
    "stats_df.plot(kind='line')\n",
    "plt.title('Generation Statistics')\n",
    "plt.ylabel('Best Fitness')\n",
    "plt.show()"
   ]
  }
 ],
 "metadata": {
  "kernelspec": {
   "display_name": "Python 3",
   "language": "python",
   "name": "python3"
  },
  "language_info": {
   "codemirror_mode": {
    "name": "ipython",
    "version": 3
   },
   "file_extension": ".py",
   "mimetype": "text/x-python",
   "name": "python",
   "nbconvert_exporter": "python",
   "pygments_lexer": "ipython3",
   "version": "3.12.0"
  }
 },
 "nbformat": 4,
 "nbformat_minor": 2
}
